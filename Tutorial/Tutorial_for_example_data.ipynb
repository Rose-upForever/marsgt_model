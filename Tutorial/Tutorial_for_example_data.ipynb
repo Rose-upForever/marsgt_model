{
 "cells": [
  {
   "cell_type": "code",
   "execution_count": 2,
   "id": "280757dd",
   "metadata": {
    "pycharm": {
     "name": "#%%\n"
    }
   },
   "outputs": [
    {
     "name": "stderr",
     "output_type": "stream",
     "text": [
      "D:\\developer\\env\\anaconda\\envs\\scBridge\\lib\\site-packages\\tqdm\\auto.py:21: TqdmWarning: IProgress not found. Please update jupyter and ipywidgets. See https://ipywidgets.readthedocs.io/en/stable/user_install.html\n",
      "  from .autonotebook import tqdm as notebook_tqdm\n",
      "D:\\developer\\env\\anaconda\\envs\\scBridge\\lib\\site-packages\\torchaudio\\backend\\utils.py:62: UserWarning: No audio backend is available.\n",
      "  warnings.warn(\"No audio backend is available.\")\n"
     ]
    }
   ],
   "source": [
    "import MarsGT \n",
    "from MarsGT.conv import *\n",
    "from MarsGT.egrn import *\n",
    "from MarsGT.marsgt_model import *\n",
    "from MarsGT.utils import *\n",
    "import anndata as ad\n",
    "from collections import Counter\n",
    "import copy\n",
    "import dill\n",
    "from functools import partial\n",
    "import json\n",
    "import math\n",
    "import matplotlib.cm as cm\n",
    "import matplotlib.pyplot as plt\n",
    "import multiprocessing as mp\n",
    "import numpy as np\n",
    "import os\n",
    "import pandas as pd\n",
    "from operator import itemgetter\n",
    "import random\n",
    "import scipy.sparse as sp\n",
    "from scipy.io import mmread\n",
    "from scipy.sparse import hstack, vstack, coo_matrix\n",
    "import seaborn as sb\n",
    "from sklearn import metrics\n",
    "from sklearn.cluster import KMeans\n",
    "from sklearn.decomposition import IncrementalPCA\n",
    "from sklearn.decomposition import SparsePCA\n",
    "from sklearn.metrics import accuracy_score\n",
    "from sklearn.metrics.cluster import normalized_mutual_info_score\n",
    "import time\n",
    "import torch\n",
    "import torch.cuda as cuda\n",
    "from torch import nn\n",
    "from torch.autograd import Variable\n",
    "import torch.distributions as D\n",
    "import torch.nn.functional as F\n",
    "import torch_geometric.data as Data\n",
    "from torch_geometric.nn import GCNConv, GATConv\n",
    "from torch_geometric.nn.conv import MessagePassing\n",
    "from torch_geometric.nn.inits import glorot, uniform\n",
    "from torch_geometric.utils import softmax as Softmax\n",
    "from torchmetrics.functional import pairwise_cosine_similarity\n",
    "import warnings\n",
    "from warnings import filterwarnings\n",
    "import xlwt\n",
    "import argparse\n",
    "from tqdm import tqdm\n",
    "import scanpy as sc\n",
    "from scipy import sparse"
   ]
  },
  {
   "cell_type": "code",
   "execution_count": 3,
   "id": "f2c63815",
   "metadata": {
    "pycharm": {
     "name": "#%%\n"
    }
   },
   "outputs": [
    {
     "ename": "DistributionNotFound",
     "evalue": "The 'MarsGT' distribution was not found and is required by the application",
     "output_type": "error",
     "traceback": [
      "\u001B[1;31m---------------------------------------------------------------------------\u001B[0m",
      "\u001B[1;31mDistributionNotFound\u001B[0m                      Traceback (most recent call last)",
      "Cell \u001B[1;32mIn[3], line 2\u001B[0m\n\u001B[0;32m      1\u001B[0m \u001B[38;5;28;01mimport\u001B[39;00m \u001B[38;5;21;01mpkg_resources\u001B[39;00m\n\u001B[1;32m----> 2\u001B[0m marsgt_version \u001B[38;5;241m=\u001B[39m \u001B[43mpkg_resources\u001B[49m\u001B[38;5;241;43m.\u001B[39;49m\u001B[43mget_distribution\u001B[49m\u001B[43m(\u001B[49m\u001B[38;5;124;43m\"\u001B[39;49m\u001B[38;5;124;43mMarsGT\u001B[39;49m\u001B[38;5;124;43m\"\u001B[39;49m\u001B[43m)\u001B[49m\u001B[38;5;241m.\u001B[39mversion\n\u001B[0;32m      3\u001B[0m \u001B[38;5;28mprint\u001B[39m(\u001B[38;5;124m'\u001B[39m\u001B[38;5;124mPlease verify with the official website whether you are using the latest version.\u001B[39m\u001B[38;5;124m'\u001B[39m)\n\u001B[0;32m      4\u001B[0m \u001B[38;5;28mprint\u001B[39m(\u001B[38;5;124m'\u001B[39m\u001B[38;5;124mYou are using version :\u001B[39m\u001B[38;5;124m'\u001B[39m,marsgt_version)\n",
      "File \u001B[1;32mD:\\developer\\env\\anaconda\\envs\\scBridge\\lib\\site-packages\\pkg_resources\\__init__.py:528\u001B[0m, in \u001B[0;36mget_distribution\u001B[1;34m(dist)\u001B[0m\n\u001B[0;32m    526\u001B[0m     dist \u001B[38;5;241m=\u001B[39m Requirement\u001B[38;5;241m.\u001B[39mparse(dist)\n\u001B[0;32m    527\u001B[0m \u001B[38;5;28;01mif\u001B[39;00m \u001B[38;5;28misinstance\u001B[39m(dist, Requirement):\n\u001B[1;32m--> 528\u001B[0m     dist \u001B[38;5;241m=\u001B[39m \u001B[43mget_provider\u001B[49m\u001B[43m(\u001B[49m\u001B[43mdist\u001B[49m\u001B[43m)\u001B[49m\n\u001B[0;32m    529\u001B[0m \u001B[38;5;28;01mif\u001B[39;00m \u001B[38;5;129;01mnot\u001B[39;00m \u001B[38;5;28misinstance\u001B[39m(dist, Distribution):\n\u001B[0;32m    530\u001B[0m     \u001B[38;5;28;01mraise\u001B[39;00m \u001B[38;5;167;01mTypeError\u001B[39;00m(\u001B[38;5;124m\"\u001B[39m\u001B[38;5;124mExpected string, Requirement, or Distribution\u001B[39m\u001B[38;5;124m\"\u001B[39m, dist)\n",
      "File \u001B[1;32mD:\\developer\\env\\anaconda\\envs\\scBridge\\lib\\site-packages\\pkg_resources\\__init__.py:400\u001B[0m, in \u001B[0;36mget_provider\u001B[1;34m(moduleOrReq)\u001B[0m\n\u001B[0;32m    398\u001B[0m \u001B[38;5;250m\u001B[39m\u001B[38;5;124;03m\"\"\"Return an IResourceProvider for the named module or requirement\"\"\"\u001B[39;00m\n\u001B[0;32m    399\u001B[0m \u001B[38;5;28;01mif\u001B[39;00m \u001B[38;5;28misinstance\u001B[39m(moduleOrReq, Requirement):\n\u001B[1;32m--> 400\u001B[0m     \u001B[38;5;28;01mreturn\u001B[39;00m working_set\u001B[38;5;241m.\u001B[39mfind(moduleOrReq) \u001B[38;5;129;01mor\u001B[39;00m \u001B[43mrequire\u001B[49m\u001B[43m(\u001B[49m\u001B[38;5;28;43mstr\u001B[39;49m\u001B[43m(\u001B[49m\u001B[43mmoduleOrReq\u001B[49m\u001B[43m)\u001B[49m\u001B[43m)\u001B[49m[\u001B[38;5;241m0\u001B[39m]\n\u001B[0;32m    401\u001B[0m \u001B[38;5;28;01mtry\u001B[39;00m:\n\u001B[0;32m    402\u001B[0m     module \u001B[38;5;241m=\u001B[39m sys\u001B[38;5;241m.\u001B[39mmodules[moduleOrReq]\n",
      "File \u001B[1;32mD:\\developer\\env\\anaconda\\envs\\scBridge\\lib\\site-packages\\pkg_resources\\__init__.py:968\u001B[0m, in \u001B[0;36mWorkingSet.require\u001B[1;34m(self, *requirements)\u001B[0m\n\u001B[0;32m    959\u001B[0m \u001B[38;5;28;01mdef\u001B[39;00m \u001B[38;5;21mrequire\u001B[39m(\u001B[38;5;28mself\u001B[39m, \u001B[38;5;241m*\u001B[39mrequirements):\n\u001B[0;32m    960\u001B[0m \u001B[38;5;250m    \u001B[39m\u001B[38;5;124;03m\"\"\"Ensure that distributions matching `requirements` are activated\u001B[39;00m\n\u001B[0;32m    961\u001B[0m \n\u001B[0;32m    962\u001B[0m \u001B[38;5;124;03m    `requirements` must be a string or a (possibly-nested) sequence\u001B[39;00m\n\u001B[1;32m   (...)\u001B[0m\n\u001B[0;32m    966\u001B[0m \u001B[38;5;124;03m    included, even if they were already activated in this working set.\u001B[39;00m\n\u001B[0;32m    967\u001B[0m \u001B[38;5;124;03m    \"\"\"\u001B[39;00m\n\u001B[1;32m--> 968\u001B[0m     needed \u001B[38;5;241m=\u001B[39m \u001B[38;5;28;43mself\u001B[39;49m\u001B[38;5;241;43m.\u001B[39;49m\u001B[43mresolve\u001B[49m\u001B[43m(\u001B[49m\u001B[43mparse_requirements\u001B[49m\u001B[43m(\u001B[49m\u001B[43mrequirements\u001B[49m\u001B[43m)\u001B[49m\u001B[43m)\u001B[49m\n\u001B[0;32m    970\u001B[0m     \u001B[38;5;28;01mfor\u001B[39;00m dist \u001B[38;5;129;01min\u001B[39;00m needed:\n\u001B[0;32m    971\u001B[0m         \u001B[38;5;28mself\u001B[39m\u001B[38;5;241m.\u001B[39madd(dist)\n",
      "File \u001B[1;32mD:\\developer\\env\\anaconda\\envs\\scBridge\\lib\\site-packages\\pkg_resources\\__init__.py:829\u001B[0m, in \u001B[0;36mWorkingSet.resolve\u001B[1;34m(self, requirements, env, installer, replace_conflicting, extras)\u001B[0m\n\u001B[0;32m    826\u001B[0m \u001B[38;5;28;01mif\u001B[39;00m \u001B[38;5;129;01mnot\u001B[39;00m req_extras\u001B[38;5;241m.\u001B[39mmarkers_pass(req, extras):\n\u001B[0;32m    827\u001B[0m     \u001B[38;5;28;01mcontinue\u001B[39;00m\n\u001B[1;32m--> 829\u001B[0m dist \u001B[38;5;241m=\u001B[39m \u001B[38;5;28;43mself\u001B[39;49m\u001B[38;5;241;43m.\u001B[39;49m\u001B[43m_resolve_dist\u001B[49m\u001B[43m(\u001B[49m\n\u001B[0;32m    830\u001B[0m \u001B[43m    \u001B[49m\u001B[43mreq\u001B[49m\u001B[43m,\u001B[49m\u001B[43m \u001B[49m\u001B[43mbest\u001B[49m\u001B[43m,\u001B[49m\u001B[43m \u001B[49m\u001B[43mreplace_conflicting\u001B[49m\u001B[43m,\u001B[49m\u001B[43m \u001B[49m\u001B[43menv\u001B[49m\u001B[43m,\u001B[49m\u001B[43m \u001B[49m\u001B[43minstaller\u001B[49m\u001B[43m,\u001B[49m\u001B[43m \u001B[49m\u001B[43mrequired_by\u001B[49m\u001B[43m,\u001B[49m\u001B[43m \u001B[49m\u001B[43mto_activate\u001B[49m\n\u001B[0;32m    831\u001B[0m \u001B[43m\u001B[49m\u001B[43m)\u001B[49m\n\u001B[0;32m    833\u001B[0m \u001B[38;5;66;03m# push the new requirements onto the stack\u001B[39;00m\n\u001B[0;32m    834\u001B[0m new_requirements \u001B[38;5;241m=\u001B[39m dist\u001B[38;5;241m.\u001B[39mrequires(req\u001B[38;5;241m.\u001B[39mextras)[::\u001B[38;5;241m-\u001B[39m\u001B[38;5;241m1\u001B[39m]\n",
      "File \u001B[1;32mD:\\developer\\env\\anaconda\\envs\\scBridge\\lib\\site-packages\\pkg_resources\\__init__.py:870\u001B[0m, in \u001B[0;36mWorkingSet._resolve_dist\u001B[1;34m(self, req, best, replace_conflicting, env, installer, required_by, to_activate)\u001B[0m\n\u001B[0;32m    868\u001B[0m         \u001B[38;5;28;01mif\u001B[39;00m dist \u001B[38;5;129;01mis\u001B[39;00m \u001B[38;5;28;01mNone\u001B[39;00m:\n\u001B[0;32m    869\u001B[0m             requirers \u001B[38;5;241m=\u001B[39m required_by\u001B[38;5;241m.\u001B[39mget(req, \u001B[38;5;28;01mNone\u001B[39;00m)\n\u001B[1;32m--> 870\u001B[0m             \u001B[38;5;28;01mraise\u001B[39;00m DistributionNotFound(req, requirers)\n\u001B[0;32m    871\u001B[0m     to_activate\u001B[38;5;241m.\u001B[39mappend(dist)\n\u001B[0;32m    872\u001B[0m \u001B[38;5;28;01mif\u001B[39;00m dist \u001B[38;5;129;01mnot\u001B[39;00m \u001B[38;5;129;01min\u001B[39;00m req:\n\u001B[0;32m    873\u001B[0m     \u001B[38;5;66;03m# Oops, the \"best\" so far conflicts with a dependency\u001B[39;00m\n",
      "\u001B[1;31mDistributionNotFound\u001B[0m: The 'MarsGT' distribution was not found and is required by the application"
     ]
    }
   ],
   "source": [
    "# # import pkg_resources\n",
    "# # marsgt_version = pkg_resources.get_distribution(\"MarsGT\").version\n",
    "# print('Please verify with the official website whether you are using the latest version.')\n",
    "# print('You are using version :',marsgt_version)"
   ]
  },
  {
   "cell_type": "markdown",
   "id": "3a410815",
   "metadata": {
    "pycharm": {
     "name": "#%% md\n"
    }
   },
   "source": [
    "## Initialize parameters"
   ]
  },
  {
   "cell_type": "code",
   "execution_count": 4,
   "id": "d25b833d",
   "metadata": {
    "pycharm": {
     "name": "#%%\n"
    }
   },
   "outputs": [],
   "source": [
    "filterwarnings(\"ignore\")\n",
    "seed = 0\n",
    "random.seed(seed)\n",
    "np.random.seed(seed)\n",
    "torch.manual_seed(seed)\n",
    "torch.cuda.manual_seed(seed)\n",
    "torch.cuda.manual_seed_all(seed)\n",
    "os.environ['PYTHONHASHSEED'] = str(seed)\n",
    "torch.backends.cudnn.deterministic = True\n",
    "torch.backends.cudnn.benchmark = False\n",
    "\n",
    "parser = argparse.ArgumentParser(description='Training GNN on gene cell graph')\n",
    "parser.add_argument('--fi', type=int, default=0) # This parameter is used for the benchmark to specify the starting sequence number of the created files\n",
    "parser.add_argument('--labsm', type=float, default=0.1) # The rate of LabelSmoothing\n",
    "parser.add_argument('--wd', type=float, default=0.1) # The 'weight_decay' parameter is used to specify the strength of L2 regularization\n",
    "parser.add_argument('--lr', type=float, default=0.0005) # learning rate\n",
    "parser.add_argument('--n_hid', type=int, default=104) # The number of layers should be a multiple of 'n_head' in order to make any modifications\n",
    "parser.add_argument('--nheads', type=int, default=8) # The 'heads' parameter represents the number of attention heads in the attention mechanism\n",
    "parser.add_argument('--nlayers', type=int, default=3) # The number of layers in network\n",
    "parser.add_argument('--cell_size', type=int, default=30) # The number of cells per subgraph (batch)\n",
    "parser.add_argument('--neighbor', type=int, default=20) # The number of neighboring nodes to be selected for each cell in the subgraph\n",
    "parser.add_argument('--egrn', type=bool, default=True) # Whether to output the Enhancer-Gene regulatory network\n",
    "parser.add_argument('--epochs', type=int, default=3) # The epoch number of NodeDimensionReduction\n",
    "parser.add_argument('--num_epochs', type=int, default=3) # The epoch number of MarsGT-Model\n",
    "parser.add_argument('--output_file', type=str, default='Tutorial_example\\output') # Please choose an output path to replace this path on your own.\n",
    "args = parser.parse_args([])\n",
    "\n",
    "output_file = args.output_file\n",
    "fi=args.fi\n",
    "labsm = args.labsm\n",
    "lr = args.lr\n",
    "wd = args.wd\n",
    "n_hid = args.n_hid\n",
    "nheads = args.nheads\n",
    "nlayers = args.nlayers\n",
    "cell_size = args.cell_size\n",
    "neighbor = args.neighbor\n",
    "egrn = args.egrn\n",
    "epochs = args.epochs\n",
    "num_epochs = args.num_epochs"
   ]
  },
  {
   "cell_type": "markdown",
   "id": "eebae3a0",
   "metadata": {
    "pycharm": {
     "name": "#%% md\n"
    }
   },
   "source": [
    "## Load the data"
   ]
  },
  {
   "cell_type": "code",
   "execution_count": 7,
   "id": "f2b62635",
   "metadata": {
    "pycharm": {
     "name": "#%%\n"
    }
   },
   "outputs": [],
   "source": [
    "# os.chdir('Tutorial_example') # Please replace the actual path with the path to \"Tutorial_example\" file.\n",
    "gene_peak = sparse.load_npz('D:\\生信\\代码及数据文件\\marsgt\\dataset\\Gene_Peak_.npz')\n",
    "peak_cell = sparse.load_npz('D:\\生信\\代码及数据文件\\marsgt\\dataset\\ATAC.npz')\n",
    "gene_cell = sparse.load_npz('D:\\生信\\代码及数据文件\\marsgt\\dataset\\RNA.npz')\n",
    "true_label = np.load('D:\\生信\\代码及数据文件\\marsgt\\dataset\\label500.npy',allow_pickle=True)\n",
    "gene_names = pd.DataFrame(np.load('D:\\生信\\代码及数据文件\\marsgt\\dataset\\gene_name.npy',allow_pickle=True))\n",
    "peak_names = pd.DataFrame(np.load('D:\\生信\\代码及数据文件\\marsgt\\dataset\\peak_name.npy',allow_pickle=True))\n",
    "\n",
    "peak_cell.obs_names = peak_names[0]\n",
    "gene_cell.obs_names = gene_names[0]\n",
    "gene_peak.obs_names = gene_names[0]\n",
    "gene_peak.var_names = peak_names[0]\n",
    "\n",
    "RNA_matrix = gene_cell\n",
    "ATAC_matrix = peak_cell\n",
    "RP_matrix = gene_peak\n",
    "Gene_Peak = gene_peak\n",
    "\n",
    "cell_num = RNA_matrix.shape[1]\n",
    "gene_num = RNA_matrix.shape[0]\n",
    "peak_num = ATAC_matrix.shape[0]"
   ]
  },
  {
   "cell_type": "markdown",
   "id": "c417dd66",
   "metadata": {
    "pycharm": {
     "name": "#%% md\n"
    }
   },
   "source": [
    "## Run the main code containing MarsGT model"
   ]
  },
  {
   "cell_type": "code",
   "execution_count": 8,
   "id": "f2cc4561",
   "metadata": {
    "pycharm": {
     "name": "#%%\n"
    }
   },
   "outputs": [
    {
     "name": "stdout",
     "output_type": "stream",
     "text": [
      "You will use :  cuda\n",
      "\tWhen the number of cells is less than or equal to 500, it is recommended to set the resolution value to 0.2.\n",
      "\tWhen the number of cells is within the range of 500 to 5000, the resolution value should be set to 0.5.\n",
      "\tWhen the number of cells is greater than 5000, the resolution value should be set to 0.8.\n",
      "WARNING: You’re trying to run this on 11819 dimensions of `.X`, if you really want this, set `use_rep='X'`.\n",
      "         Falling back to preprocessing with `sc.pp.pca` and default params.\n",
      "We are currently in the process of partitioning the data into batches. Kindly wait for a moment, please.\n"
     ]
    },
    {
     "name": "stderr",
     "output_type": "stream",
     "text": [
      "100%|██████████| 17/17 [00:14<00:00,  1.21it/s]\n"
     ]
    },
    {
     "name": "stdout",
     "output_type": "stream",
     "text": [
      "The training process for the NodeDimensionReduction model has started. Please wait.\n"
     ]
    },
    {
     "name": "stderr",
     "output_type": "stream",
     "text": [
      "  0%|          | 0/100 [00:10<?, ?it/s]\n"
     ]
    },
    {
     "ename": "RuntimeError",
     "evalue": "Index tensor must have the same number of dimensions as input tensor",
     "output_type": "error",
     "traceback": [
      "\u001B[1;31m---------------------------------------------------------------------------\u001B[0m",
      "\u001B[1;31mRuntimeError\u001B[0m                              Traceback (most recent call last)",
      "Cell \u001B[1;32mIn[8], line 16\u001B[0m\n\u001B[0;32m     13\u001B[0m \u001B[38;5;66;03m# Reduce the dimensionality of features for cell, gene, and peak data.\u001B[39;00m\n\u001B[0;32m     14\u001B[0m node_model \u001B[38;5;241m=\u001B[39m NodeDimensionReduction(RNA_matrix, ATAC_matrix, indices, ini_p1, n_hid\u001B[38;5;241m=\u001B[39mn_hid, n_heads\u001B[38;5;241m=\u001B[39mnheads, \n\u001B[0;32m     15\u001B[0m                                     n_layers\u001B[38;5;241m=\u001B[39mnlayers,labsm\u001B[38;5;241m=\u001B[39mlabsm, lr\u001B[38;5;241m=\u001B[39mlr, wd\u001B[38;5;241m=\u001B[39mwd, device\u001B[38;5;241m=\u001B[39mdevice, num_types\u001B[38;5;241m=\u001B[39m\u001B[38;5;241m3\u001B[39m, num_relations\u001B[38;5;241m=\u001B[39m\u001B[38;5;241m2\u001B[39m, epochs\u001B[38;5;241m=\u001B[39m\u001B[38;5;241m100\u001B[39m)\n\u001B[1;32m---> 16\u001B[0m gnn,cell_emb,gene_emb,peak_emb,h \u001B[38;5;241m=\u001B[39m \u001B[43mnode_model\u001B[49m\u001B[38;5;241;43m.\u001B[39;49m\u001B[43mtrain_model\u001B[49m\u001B[43m(\u001B[49m\u001B[43mn_batch\u001B[49m\u001B[38;5;241;43m=\u001B[39;49m\u001B[43mn_batch\u001B[49m\u001B[43m)\u001B[49m\n\u001B[0;32m     18\u001B[0m \u001B[38;5;66;03m# Instantiate the MarsGT_model\u001B[39;00m\n\u001B[0;32m     19\u001B[0m MarsGT_model \u001B[38;5;241m=\u001B[39m MarsGT(gnn\u001B[38;5;241m=\u001B[39mgnn, h\u001B[38;5;241m=\u001B[39mh, labsm\u001B[38;5;241m=\u001B[39mlabsm, n_hid\u001B[38;5;241m=\u001B[39mn_hid, n_batch\u001B[38;5;241m=\u001B[39mn_batch, device\u001B[38;5;241m=\u001B[39mdevice,lr\u001B[38;5;241m=\u001B[39mlr,wd\u001B[38;5;241m=\u001B[39mwd, num_epochs\u001B[38;5;241m=\u001B[39m\u001B[38;5;241m50\u001B[39m)\n",
      "File \u001B[1;32mD:\\生信\\代码及数据文件\\marsgt\\MarsGT\\marsgt_model.py:174\u001B[0m, in \u001B[0;36mNodeDimensionReduction.train_model\u001B[1;34m(self, n_batch)\u001B[0m\n\u001B[0;32m    172\u001B[0m loss_kl2 \u001B[38;5;241m=\u001B[39m F\u001B[38;5;241m.\u001B[39mkl_div(logp_x2, p_y2, reduction\u001B[38;5;241m=\u001B[39m\u001B[38;5;124m'\u001B[39m\u001B[38;5;124mmean\u001B[39m\u001B[38;5;124m'\u001B[39m)\n\u001B[0;32m    173\u001B[0m loss_kl \u001B[38;5;241m=\u001B[39m loss_kl1 \u001B[38;5;241m+\u001B[39m loss_kl2\n\u001B[1;32m--> 174\u001B[0m loss_cluster \u001B[38;5;241m=\u001B[39m \u001B[38;5;28;43mself\u001B[39;49m\u001B[38;5;241;43m.\u001B[39;49m\u001B[43mLabSm\u001B[49m\u001B[43m(\u001B[49m\u001B[43mcell_emb\u001B[49m\u001B[43m,\u001B[49m\u001B[43m \u001B[49m\u001B[43ml\u001B[49m\u001B[43m)\u001B[49m\n\u001B[0;32m    175\u001B[0m lll \u001B[38;5;241m=\u001B[39m \u001B[38;5;241m0\u001B[39m\n\u001B[0;32m    176\u001B[0m g \u001B[38;5;241m=\u001B[39m [\u001B[38;5;28mint\u001B[39m(i) \u001B[38;5;28;01mfor\u001B[39;00m i \u001B[38;5;129;01min\u001B[39;00m l]\n",
      "File \u001B[1;32mD:\\developer\\env\\anaconda\\envs\\scBridge\\lib\\site-packages\\torch\\nn\\modules\\module.py:1194\u001B[0m, in \u001B[0;36mModule._call_impl\u001B[1;34m(self, *input, **kwargs)\u001B[0m\n\u001B[0;32m   1190\u001B[0m \u001B[38;5;66;03m# If we don't have any hooks, we want to skip the rest of the logic in\u001B[39;00m\n\u001B[0;32m   1191\u001B[0m \u001B[38;5;66;03m# this function, and just call forward.\u001B[39;00m\n\u001B[0;32m   1192\u001B[0m \u001B[38;5;28;01mif\u001B[39;00m \u001B[38;5;129;01mnot\u001B[39;00m (\u001B[38;5;28mself\u001B[39m\u001B[38;5;241m.\u001B[39m_backward_hooks \u001B[38;5;129;01mor\u001B[39;00m \u001B[38;5;28mself\u001B[39m\u001B[38;5;241m.\u001B[39m_forward_hooks \u001B[38;5;129;01mor\u001B[39;00m \u001B[38;5;28mself\u001B[39m\u001B[38;5;241m.\u001B[39m_forward_pre_hooks \u001B[38;5;129;01mor\u001B[39;00m _global_backward_hooks\n\u001B[0;32m   1193\u001B[0m         \u001B[38;5;129;01mor\u001B[39;00m _global_forward_hooks \u001B[38;5;129;01mor\u001B[39;00m _global_forward_pre_hooks):\n\u001B[1;32m-> 1194\u001B[0m     \u001B[38;5;28;01mreturn\u001B[39;00m forward_call(\u001B[38;5;241m*\u001B[39m\u001B[38;5;28minput\u001B[39m, \u001B[38;5;241m*\u001B[39m\u001B[38;5;241m*\u001B[39mkwargs)\n\u001B[0;32m   1195\u001B[0m \u001B[38;5;66;03m# Do not call functions when jit is used\u001B[39;00m\n\u001B[0;32m   1196\u001B[0m full_backward_hooks, non_full_backward_hooks \u001B[38;5;241m=\u001B[39m [], []\n",
      "File \u001B[1;32mD:\\生信\\代码及数据文件\\marsgt\\MarsGT\\utils.py:102\u001B[0m, in \u001B[0;36mLabelSmoothing.forward\u001B[1;34m(self, x, target)\u001B[0m\n\u001B[0;32m    100\u001B[0m \u001B[38;5;28;01mdef\u001B[39;00m \u001B[38;5;21mforward\u001B[39m(\u001B[38;5;28mself\u001B[39m, x, target):\n\u001B[0;32m    101\u001B[0m     logprobs \u001B[38;5;241m=\u001B[39m torch\u001B[38;5;241m.\u001B[39mnn\u001B[38;5;241m.\u001B[39mfunctional\u001B[38;5;241m.\u001B[39mlog_softmax(x, dim\u001B[38;5;241m=\u001B[39m\u001B[38;5;241m-\u001B[39m\u001B[38;5;241m1\u001B[39m)\n\u001B[1;32m--> 102\u001B[0m     nll_loss \u001B[38;5;241m=\u001B[39m \u001B[38;5;241m-\u001B[39m\u001B[43mlogprobs\u001B[49m\u001B[38;5;241;43m.\u001B[39;49m\u001B[43mgather\u001B[49m\u001B[43m(\u001B[49m\u001B[43mdim\u001B[49m\u001B[38;5;241;43m=\u001B[39;49m\u001B[38;5;241;43m-\u001B[39;49m\u001B[38;5;241;43m1\u001B[39;49m\u001B[43m,\u001B[49m\u001B[43m \u001B[49m\u001B[43mindex\u001B[49m\u001B[38;5;241;43m=\u001B[39;49m\u001B[43mtarget\u001B[49m\u001B[38;5;241;43m.\u001B[39;49m\u001B[43munsqueeze\u001B[49m\u001B[43m(\u001B[49m\u001B[38;5;241;43m1\u001B[39;49m\u001B[43m)\u001B[49m\u001B[43m)\u001B[49m\n\u001B[0;32m    103\u001B[0m     nll_loss \u001B[38;5;241m=\u001B[39m nll_loss\u001B[38;5;241m.\u001B[39msqueeze(\u001B[38;5;241m1\u001B[39m)\n\u001B[0;32m    104\u001B[0m     smooth_loss \u001B[38;5;241m=\u001B[39m \u001B[38;5;241m-\u001B[39mlogprobs\u001B[38;5;241m.\u001B[39mmean(dim\u001B[38;5;241m=\u001B[39m\u001B[38;5;241m-\u001B[39m\u001B[38;5;241m1\u001B[39m)\n",
      "\u001B[1;31mRuntimeError\u001B[0m: Index tensor must have the same number of dimensions as input tensor"
     ]
    }
   ],
   "source": [
    "if __name__ == \"__main__\":\n",
    "    device = torch.device(\"cuda\" if cuda.is_available() else \"cpu\")\n",
    "    print('You will use : ',device)\n",
    "    # clustering result by scanpy\n",
    "    initial_pre = initial_clustering(RNA_matrix) \n",
    "    # number of every cluster\n",
    "    cluster_ini_num = len(set(initial_pre)) \n",
    "    ini_p1 = [int(i) for i in initial_pre] \n",
    "    # partite the data into batches\n",
    "    indices, Node_Ids, dic = batch_select_whole (RNA_matrix, ATAC_matrix, neighbor = [neighbor], cell_size=cell_size)\n",
    "    n_batch = len(indices)\n",
    "    \n",
    "    # Reduce the dimensionality of features for cell, gene, and peak data.\n",
    "    node_model = NodeDimensionReduction(RNA_matrix, ATAC_matrix, indices, ini_p1, n_hid=n_hid, n_heads=nheads, \n",
    "                                        n_layers=nlayers,labsm=labsm, lr=lr, wd=wd, device=device, num_types=3, num_relations=2, epochs=100)\n",
    "    gnn,cell_emb,gene_emb,peak_emb,h = node_model.train_model(n_batch=n_batch)\n",
    "\n",
    "    # Instantiate the MarsGT_model\n",
    "    MarsGT_model = MarsGT(gnn=gnn, h=h, labsm=labsm, n_hid=n_hid, n_batch=n_batch, device=device,lr=lr,wd=wd, num_epochs=50)\n",
    "    # Train the model\n",
    "    MarsGT_gnn = MarsGT_model.train_model(indices=indices,RNA_matrix=RNA_matrix, ATAC_matrix=ATAC_matrix, Gene_Peak=Gene_Peak, ini_p1=ini_p1)\n",
    "    # The result of MarsGT\n",
    "    MarsGT_result = MarsGT_pred(RNA_matrix, ATAC_matrix, RP_matrix, egrn=egrn, MarsGT_gnn=MarsGT_gnn, indices=indices, \n",
    "                        nodes_id=Node_Ids, cell_size=cell_size, device=device, gene_names=gene_names, peak_names=peak_names)\n",
    "    \n",
    "    # Save numpy arrays to files\n",
    "    np.save(output_file + \"/Node_Ids.npy\", Node_Ids)\n",
    "    np.save(output_file + \"/pred.npy\", MarsGT_result['pred_label'])\n",
    "    np.save(output_file + \"/cell_embedding.npy\", MarsGT_result['cell_embedding'])"
   ]
  },
  {
   "cell_type": "markdown",
   "id": "e4c858cd",
   "metadata": {
    "pycharm": {
     "name": "#%% md\n"
    }
   },
   "source": [
    "## Simple exploration of the results"
   ]
  },
  {
   "cell_type": "code",
   "execution_count": 6,
   "id": "3e18204d",
   "metadata": {
    "pycharm": {
     "name": "#%%\n"
    }
   },
   "outputs": [
    {
     "name": "stdout",
     "output_type": "stream",
     "text": [
      "Counter({0: 281, 1: 209, 2: 10})\n"
     ]
    }
   ],
   "source": [
    "print(Counter(MarsGT_result['pred_label']))"
   ]
  },
  {
   "cell_type": "code",
   "execution_count": 7,
   "id": "b6e8ce65",
   "metadata": {
    "pycharm": {
     "name": "#%%\n"
    }
   },
   "outputs": [
    {
     "name": "stdout",
     "output_type": "stream",
     "text": [
      "['Plasma cell' 'Plasma cell' 'Plasma cell' 'Plasma cell' 'Plasma cell'\n",
      " 'Plasma cell' 'Plasma cell' 'Plasma cell' 'Plasma cell' 'Plasma cell']\n"
     ]
    }
   ],
   "source": [
    "## Among the 500 cells in this example, there are a total of 490 CD4+ T naive cells and Plasma cells. Now, we will sample from the rare class predicted as \"2\", and all the samples will be Plasma cells.\n",
    "print(true_label[Node_Ids][np.where(MarsGT_result['pred_label']==2)])"
   ]
  },
  {
   "cell_type": "markdown",
   "id": "321cf0a4",
   "metadata": {
    "pycharm": {
     "name": "#%% md\n"
    }
   },
   "source": [
    "#### Evaluation of the clustering results"
   ]
  },
  {
   "cell_type": "code",
   "execution_count": 8,
   "id": "d74bebcb",
   "metadata": {
    "pycharm": {
     "name": "#%%\n"
    }
   },
   "outputs": [
    {
     "name": "stdout",
     "output_type": "stream",
     "text": [
      "purity:0.9800\n",
      "NMI:1.0000\n",
      "Entropy:0.0974\n"
     ]
    }
   ],
   "source": [
    "pred_label = MarsGT_result['pred_label']\n",
    "p_score ,labels = purity_score(np.array(true_label),pred_label)\n",
    "e = Entropy(np.array(pred_label,dtype='int64'),np.array(labels,dtype='int64'))\n",
    "print(\"purity:%.4f\"%p_score)\n",
    "print(\"NMI:%.4f\"%normalized_mutual_info_score(true_label,labels))\n",
    "print(\"Entropy:%.4f\"%e)"
   ]
  },
  {
   "cell_type": "markdown",
   "id": "38cd5ebe",
   "metadata": {
    "pycharm": {
     "name": "#%% md\n"
    }
   },
   "source": [
    "#### Show the EGRN"
   ]
  },
  {
   "cell_type": "code",
   "execution_count": 9,
   "id": "274bf533",
   "metadata": {
    "pycharm": {
     "name": "#%%\n"
    }
   },
   "outputs": [
    {
     "data": {
      "text/html": [
       "<div>\n",
       "<style scoped>\n",
       "    .dataframe tbody tr th:only-of-type {\n",
       "        vertical-align: middle;\n",
       "    }\n",
       "\n",
       "    .dataframe tbody tr th {\n",
       "        vertical-align: top;\n",
       "    }\n",
       "\n",
       "    .dataframe thead th {\n",
       "        text-align: right;\n",
       "    }\n",
       "</style>\n",
       "<table border=\"1\" class=\"dataframe\">\n",
       "  <thead>\n",
       "    <tr style=\"text-align: right;\">\n",
       "      <th></th>\n",
       "      <th>gene</th>\n",
       "      <th>peak</th>\n",
       "      <th>score</th>\n",
       "      <th>class</th>\n",
       "    </tr>\n",
       "  </thead>\n",
       "  <tbody>\n",
       "    <tr>\n",
       "      <th>413084057</th>\n",
       "      <td>MALAT1</td>\n",
       "      <td>chr11-65497140-65498028</td>\n",
       "      <td>110.855689</td>\n",
       "      <td>0</td>\n",
       "    </tr>\n",
       "    <tr>\n",
       "      <th>607038746</th>\n",
       "      <td>RB1</td>\n",
       "      <td>chr13-48405658-48406465</td>\n",
       "      <td>16.926812</td>\n",
       "      <td>0</td>\n",
       "    </tr>\n",
       "    <tr>\n",
       "      <th>607038744</th>\n",
       "      <td>RB1</td>\n",
       "      <td>chr13-48400694-48401538</td>\n",
       "      <td>15.017956</td>\n",
       "      <td>0</td>\n",
       "    </tr>\n",
       "    <tr>\n",
       "      <th>219109683</th>\n",
       "      <td>EEF1A1</td>\n",
       "      <td>chr6-73520797-73521691</td>\n",
       "      <td>14.581852</td>\n",
       "      <td>0</td>\n",
       "    </tr>\n",
       "    <tr>\n",
       "      <th>607038747</th>\n",
       "      <td>RB1</td>\n",
       "      <td>chr13-48410002-48410807</td>\n",
       "      <td>14.295276</td>\n",
       "      <td>0</td>\n",
       "    </tr>\n",
       "    <tr>\n",
       "      <th>...</th>\n",
       "      <td>...</td>\n",
       "      <td>...</td>\n",
       "      <td>...</td>\n",
       "      <td>...</td>\n",
       "    </tr>\n",
       "    <tr>\n",
       "      <th>521825713</th>\n",
       "      <td>PARP12</td>\n",
       "      <td>chr7-140211990-140212772</td>\n",
       "      <td>0.0</td>\n",
       "      <td>2</td>\n",
       "    </tr>\n",
       "    <tr>\n",
       "      <th>595699433</th>\n",
       "      <td>RAB1B</td>\n",
       "      <td>chr11-66418130-66418621</td>\n",
       "      <td>0.0</td>\n",
       "      <td>2</td>\n",
       "    </tr>\n",
       "    <tr>\n",
       "      <th>92412937</th>\n",
       "      <td>C1orf50</td>\n",
       "      <td>chr1-42916969-42917432</td>\n",
       "      <td>0.0</td>\n",
       "      <td>2</td>\n",
       "    </tr>\n",
       "    <tr>\n",
       "      <th>784054780</th>\n",
       "      <td>TOMM22</td>\n",
       "      <td>chr22-38531542-38532455</td>\n",
       "      <td>0.0</td>\n",
       "      <td>2</td>\n",
       "    </tr>\n",
       "    <tr>\n",
       "      <th>653743343</th>\n",
       "      <td>SCAMP5</td>\n",
       "      <td>chr15-75145090-75146003</td>\n",
       "      <td>0.0</td>\n",
       "      <td>2</td>\n",
       "    </tr>\n",
       "  </tbody>\n",
       "</table>\n",
       "<p>353345 rows × 4 columns</p>\n",
       "</div>"
      ],
      "text/plain": [
       "              gene                      peak       score class\n",
       "413084057   MALAT1   chr11-65497140-65498028  110.855689     0\n",
       "607038746      RB1   chr13-48405658-48406465   16.926812     0\n",
       "607038744      RB1   chr13-48400694-48401538   15.017956     0\n",
       "219109683   EEF1A1    chr6-73520797-73521691   14.581852     0\n",
       "607038747      RB1   chr13-48410002-48410807   14.295276     0\n",
       "...            ...                       ...         ...   ...\n",
       "521825713   PARP12  chr7-140211990-140212772         0.0     2\n",
       "595699433    RAB1B   chr11-66418130-66418621         0.0     2\n",
       "92412937   C1orf50    chr1-42916969-42917432         0.0     2\n",
       "784054780   TOMM22   chr22-38531542-38532455         0.0     2\n",
       "653743343   SCAMP5   chr15-75145090-75146003         0.0     2\n",
       "\n",
       "[353345 rows x 4 columns]"
      ]
     },
     "execution_count": 9,
     "metadata": {},
     "output_type": "execute_result"
    }
   ],
   "source": [
    "MarsGT_result['egrn']"
   ]
  }
 ],
 "metadata": {
  "kernelspec": {
   "display_name": "scBridge",
   "language": "python",
   "name": "scbridge"
  },
  "language_info": {
   "codemirror_mode": {
    "name": "ipython",
    "version": 3
   },
   "file_extension": ".py",
   "mimetype": "text/x-python",
   "name": "python",
   "nbconvert_exporter": "python",
   "pygments_lexer": "ipython3",
   "version": "3.10.6"
  }
 },
 "nbformat": 4,
 "nbformat_minor": 5
}