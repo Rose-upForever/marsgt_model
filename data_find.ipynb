{
 "cells": [
  {
   "cell_type": "code",
   "execution_count": 3,
   "metadata": {
    "collapsed": true,
    "pycharm": {
     "name": "#%%\n"
    }
   },
   "outputs": [],
   "source": [
    "from scipy import sparse\n",
    "import numpy as np\n",
    "import pandas as pd"
   ]
  },
  {
   "cell_type": "code",
   "execution_count": 4,
   "outputs": [],
   "source": [
    "gene_peak = sparse.load_npz('dataset/Gene_Peak_.npz')\n",
    "peak_cell = sparse.load_npz('dataset/ATAC.npz')\n",
    "gene_cell = sparse.load_npz('dataset/RNA.npz')\n",
    "true_label = np.load('dataset/label500.npy',allow_pickle=True)\n",
    "gene_names = pd.DataFrame(np.load('dataset/gene_name.npy',allow_pickle=True))\n",
    "peak_names = pd.DataFrame(np.load('dataset/peak_name.npy',allow_pickle=True))"
   ],
   "metadata": {
    "collapsed": false,
    "pycharm": {
     "name": "#%%\n"
    }
   }
  },
  {
   "cell_type": "code",
   "execution_count": 6,
   "outputs": [],
   "source": [
    "peak_cell.obs_names = peak_names[0]"
   ],
   "metadata": {
    "collapsed": false,
    "pycharm": {
     "name": "#%%\n"
    }
   }
  },
  {
   "cell_type": "code",
   "execution_count": 7,
   "outputs": [
    {
     "data": {
      "text/plain": "0              chr1-822804-823597\n1              chr1-827067-827948\n2              chr1-838003-838737\n3              chr1-841079-841916\n4              chr1-842497-843414\n                   ...           \n76053    chrX-155819825-155820681\n76054    chrX-155880870-155881771\n76055    chrX-155966622-155967501\n76056    chrX-156001265-156002117\n76057    chrX-156029992-156030883\nName: 0, Length: 76058, dtype: object"
     },
     "execution_count": 7,
     "metadata": {},
     "output_type": "execute_result"
    }
   ],
   "source": [],
   "metadata": {
    "collapsed": false,
    "pycharm": {
     "name": "#%%\n"
    }
   }
  }
 ],
 "metadata": {
  "kernelspec": {
   "display_name": "Python 3",
   "language": "python",
   "name": "python3"
  },
  "language_info": {
   "codemirror_mode": {
    "name": "ipython",
    "version": 2
   },
   "file_extension": ".py",
   "mimetype": "text/x-python",
   "name": "python",
   "nbconvert_exporter": "python",
   "pygments_lexer": "ipython2",
   "version": "2.7.6"
  }
 },
 "nbformat": 4,
 "nbformat_minor": 0
}